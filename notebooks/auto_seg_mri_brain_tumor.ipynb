{
 "cells": [
  {
   "cell_type": "code",
   "execution_count": 3,
   "metadata": {},
   "outputs": [],
   "source": [
    "#pip install nibabel"
   ]
  },
  {
   "cell_type": "code",
   "execution_count": 16,
   "metadata": {},
   "outputs": [],
   "source": [
    "import os\n",
    "import keras\n",
    "import json\n",
    "from PIL import Image\n",
    "import numpy as np\n",
    "import pandas as pd\n",
    "import nibabel as nib\n",
    "import matplotlib.pyplot as plt\n",
    "from tensorflow.keras import backend as K \n",
    "import tensorflow as tf\n",
    "\n",
    "# Set the seed for random operations.\n",
    "SEED = 1234\n",
    "np.random.seed(SEED)\n",
    "tf.random.set_seed(SEED)\n",
    "\n",
    "# Create util and public_tests modules\n",
    "#import util\n",
    "#from public_tests import *\n",
    "#from test_utils import *\n",
    "\n",
    "tf.compat.v1.logging.set_verbosity(tf.compat.v1.logging.ERROR)"
   ]
  },
  {
   "cell_type": "code",
   "execution_count": 23,
   "metadata": {},
   "outputs": [
    {
     "name": "stdout",
     "output_type": "stream",
     "text": [
      "Labels Path: ../input/labels\n",
      "Images Path: ../input/images/input\n",
      "Test Path: ../input/TEST\n"
     ]
    }
   ],
   "source": [
    "## Path to the data directory\n",
    "#data_dir = \"../input\"\n",
    "#\n",
    "### Paths to subdirectories\n",
    "#labels_path = os.path.join(data_dir, \"labels\")\n",
    "#images_path = os.path.join(data_dir, \"images\", \"input\")\n",
    "#test_path = os.path.join(data_dir, \"TEST\")#\n",
    "#\n",
    "### Example of loading an image file path\n",
    "#image_path = os.path.join(images_path, \"brain_mri_img_1.png\")\n",
    "#\n",
    "#print(f\"Labels Path: {labels_path}\")\n",
    "#print(f\"Images Path: {images_path}\")\n",
    "#print(f\"Test Path: {test_path}\")\n",
    "# Display image\n",
    "#image = plt.imread(image_path)\n",
    "#plt.imshow(image, cmap=\"gray\")\n",
    "#plt.axis(\"off\")\n",
    "#plt.show()"
   ]
  },
  {
   "cell_type": "code",
   "execution_count": null,
   "metadata": {},
   "outputs": [],
   "source": [
    "image_path = os.path.join(images_path, 'example.jpg')\n",
    "\n",
    "# Open the image file\n",
    "img = Image.open(image_path[0])\n",
    "\n",
    "# Display the image\n",
    "plt.imshow(img)\n",
    "plt.show()"
   ]
  },
  {
   "cell_type": "code",
   "execution_count": null,
   "metadata": {},
   "outputs": [],
   "source": [
    "'''Alternative Load Data'''\n",
    "# set home directory and data directory\n",
    "HOME_DIR = \"data/BraTS-Data/\"\n",
    "DATA_DIR = HOME_DIR\n",
    "\n",
    "def load_case(image_nifty_file, label_nifty_file):\n",
    "    # load the image and label file, get the image content and return a numpy array for each\n",
    "    image = np.array(nib.load(image_nifty_file).get_fdata())\n",
    "    label = np.array(nib.load(label_nifty_file).get_fdata())\n",
    "    \n",
    "    return image, label"
   ]
  }
 ],
 "metadata": {
  "kernelspec": {
   "display_name": "venv",
   "language": "python",
   "name": "python3"
  },
  "language_info": {
   "codemirror_mode": {
    "name": "ipython",
    "version": 3
   },
   "file_extension": ".py",
   "mimetype": "text/x-python",
   "name": "python",
   "nbconvert_exporter": "python",
   "pygments_lexer": "ipython3",
   "version": "3.9.12"
  }
 },
 "nbformat": 4,
 "nbformat_minor": 2
}
